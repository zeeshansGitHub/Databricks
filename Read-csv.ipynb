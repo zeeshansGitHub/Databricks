%python
storage_account_name = "dbpystorage"
storage_account_access_key = "YOUR_ACCOUNT_ACCESS_KEY"
     

%python
file_location = "wasbs://dbpystorecontainer@dbpystorage.blob.core.windows.net/"
file_type = "csv"
     

%python
spark.conf.set("fs.azure.account.key."+storage_account_name+".blob.core.windows.net",storage_account_access_key)
     

%python
df = spark.read.format(file_type).option("header","true").option("inferSchema", "true").load(file_location)
     

df.createOrReplaceTempView("Day9data_view")
     

%sql

SELECT * FROM Day9data_view
